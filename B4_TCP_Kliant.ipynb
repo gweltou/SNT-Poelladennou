{
 "cells": [
  {
   "cell_type": "markdown",
   "metadata": {},
   "source": [
    "# B4 Internet - Poelladenn Kliant TCP"
   ]
  },
  {
   "cell_type": "markdown",
   "metadata": {},
   "source": [
    "### Pall :"
   ]
  },
  {
   "cell_type": "markdown",
   "metadata": {},
   "source": [
    "* Kas ur c'hemennadenn d'ur servijer web a-bell war Internet gant ar protokol TCP.\n",
    "* Klask kas titouroù disheñvel ha gwelet petra vez adkaset deoc'h gant ar servijer.\n",
    "* Adskrivañ ar fonksion `netcat` dindan **Spyder**\n",
    "* Gant **Spyder** : daremprediñ gant ur servijer lec'hel [local], bet loc'het war un urzhiataer eus ar sal klas gant ar c'helenner.\n",
    "* Gant **Jupyter** : memes tra eget araok.\n",
    "* Kompren an difoc'h etre en daou doare d'ober. Perak e vez gwelet un anaouder IP disheñvel gant ar servijer ?"
   ]
  },
  {
   "cell_type": "markdown",
   "metadata": {},
   "source": [
    "<img src=\"https://upload.wikimedia.org/wikipedia/commons/f/fb/Server-based-network.svg\" style=\"width:400px\" />"
   ]
  },
  {
   "cell_type": "markdown",
   "metadata": {},
   "source": [
    "Dindan ar sistem oberiant *Linux* e vez kavet ur urzhiad anvet `netcat` pe `nc` a servij da gas titouroù krai (*brut*) d'ul lec'hienn a-bell dre ar protokol *TCP*.<br>\n",
    "Tu 'zo staliañ ar memes urzhiat war *Windows* ivez met gwelloc'h eo c'hoazh adskrivañ an urzhiat-mañ e Python !"
   ]
  },
  {
   "cell_type": "code",
   "execution_count": null,
   "metadata": {},
   "outputs": [],
   "source": [
    "# Emporzhiet e vez ar modul 'socket' evit implij ar fonksionoù rouedad\n",
    "import socket\n",
    "\n",
    "# Termenet e vez ar fonksion 'netcat'\n",
    "def netcat(anaouder, porz, titour):\n",
    "    s = socket.socket(socket.AF_INET, socket.SOCK_STREAM)\n",
    "    s.connect((anaouder, porz))\n",
    "    s.sendall(titour.encode(\"utf-8\"))\n",
    "    s.shutdown(socket.SHUT_WR)\n",
    "    \n",
    "    response = b\"\"\n",
    "    while True:\n",
    "        data = s.recv(1024)\n",
    "        if not data:\n",
    "            break\n",
    "        response += data\n",
    "    \n",
    "    print(\"Resevet:\")\n",
    "    print(response.decode(\"latin-1\"))\n",
    "    s.close()\n",
    "    print(\"Sarret eo bet al liamm.\")"
   ]
  },
  {
   "cell_type": "markdown",
   "metadata": {},
   "source": [
    "Na pennfollit ket, normal eo ma ne vez ket komprenet ganeoc'h ar pezh a zo skrivet a-us !<br>\n",
    "Displeget e vo deoc'h penaos implij ar fonksion `netcat` nemetken."
   ]
  },
  {
   "cell_type": "markdown",
   "metadata": {},
   "source": [
    "Ar fonksion `netcat`, nevez termenet ganeomp, a gemer 3 arguzenn : un anaouder (niverenn IP pe URL), un niverenn porzh ha titouroù da gas.<br>\n",
    "* An anaouder a rank bezañ ur **chadenn lizherenneg**, da skouer : `\"www.symbolics.com\"` pe `\"64.6.98.185\"`\n",
    "* An niverenn porzh a zo un **niverenn anterin** o klotaat gant un niverenn porzh digoret war ar servijer a klaskomp tizhout. An porzh boutin evit ar c'hemenadennoù HTTP a zo a porzh 80.\n",
    "* An titouroù da gas a zo ur **chadenn lizherenneg**."
   ]
  },
  {
   "cell_type": "markdown",
   "metadata": {},
   "source": [
    "Setu, da skouer, petra 'vez resevet pa vez kaset titouroù frammet reizh evit goulenn un bajenn web krai.<br>\n",
    "an titouroù kaset d'ar servijer, `\"GET http://symbolics.com/museum/ HTTP/1.1\\r\\nHost: symbolics.com\\r\\n\\r\\n\"` a heuil ur framm resis tre, anvet ar protokol HTTP. Ma vez cheñchet ul lizherenn nemetken e-barzh an titouroù-se ne vo ket komprenet an urzh ken gant ar servijer."
   ]
  },
  {
   "cell_type": "code",
   "execution_count": null,
   "metadata": {},
   "outputs": [],
   "source": [
    "netcat(\"www.symbolics.com\", 80, \"GET http://symbolics.com/museum/ HTTP/1.1\\r\\nHost: symbolics.com\\r\\n\\r\\n\")"
   ]
  },
  {
   "cell_type": "markdown",
   "metadata": {},
   "source": [
    "Setu petra c'hoarvez ma vez kaset ur goulenn frammet fall (hervez ar protokol HTTP) d'ur servijer web :"
   ]
  },
  {
   "cell_type": "code",
   "execution_count": null,
   "metadata": {},
   "outputs": [],
   "source": [
    "netcat(\"www.symbolics.com\", 80, \"Kas-din ur pajenn web marplij\\r\\n\\r\\n\")"
   ]
  },
  {
   "cell_type": "markdown",
   "metadata": {},
   "source": [
    "## Tremenit war Spyder"
   ]
  },
  {
   "cell_type": "markdown",
   "metadata": {},
   "source": [
    "N'on eus ket echu c'hoazh gant Jupyter met digorit ar meiziant **Spyder** evit ar poelladenn o-tont."
   ]
  },
  {
   "cell_type": "markdown",
   "metadata": {},
   "source": [
    "Dindan **Spyder**, adskrivit ar fonksion `netcat` evel m'az eo bet roet deoc'h e penn kentañ an notebook mañ."
   ]
  },
  {
   "cell_type": "markdown",
   "metadata": {},
   "source": [
    "Gortozit e vefe loc'het ur servijer gant ar c'helenner ha darempredit gant ar servijer en ur implij ar fonksion `netcat` diouzh **Spyder**."
   ]
  },
  {
   "cell_type": "markdown",
   "metadata": {},
   "source": [
    "## Distroit war Jupyter"
   ]
  },
  {
   "cell_type": "markdown",
   "metadata": {},
   "source": [
    "Darempredit en dro gant ar servijer met o implij Jupyter ar wech mañ."
   ]
  },
  {
   "cell_type": "code",
   "execution_count": null,
   "metadata": {},
   "outputs": [],
   "source": [
    "netcat(\"\", 64646, \"HACKING THE MAINFRAME...\")"
   ]
  },
  {
   "cell_type": "markdown",
   "metadata": {},
   "source": [
    "Peseurt difoc'h a zo ?"
   ]
  }
 ],
 "metadata": {
  "kernelspec": {
   "display_name": "Python 3",
   "language": "python",
   "name": "python3"
  },
  "language_info": {
   "codemirror_mode": {
    "name": "ipython",
    "version": 3
   },
   "file_extension": ".py",
   "mimetype": "text/x-python",
   "name": "python",
   "nbconvert_exporter": "python",
   "pygments_lexer": "ipython3",
   "version": "3.7.5rc1"
  }
 },
 "nbformat": 4,
 "nbformat_minor": 2
}
