{
 "cells": [
  {
   "cell_type": "markdown",
   "metadata": {},
   "source": [
    "# B2 Internet - Poelladenn Kliant TCP"
   ]
  },
  {
   "cell_type": "markdown",
   "metadata": {},
   "source": [
    "### Pall :"
   ]
  },
  {
   "cell_type": "markdown",
   "metadata": {},
   "source": [
    "* Kas ur c'hemennadenn d'ur servijer web a-bell war Internet gant ar protokol TCP.\n",
    "* Klask kas titouroù disheñvel ha gwelet petra vez adkaset deoc'h gant ar servijer.\n",
    "* Adskrivañ ar fonksion `netcat` dindan **Spyder**\n",
    "* Gant **Spyder** : daremprediñ gant ur servijer lec'hel [local], bet loc'het war un urzhiataer eus ar sal klas gant ar c'helenner.\n",
    "* Gant **Jupyter** : memes tra eget araok.\n",
    "* Kompren an difoc'h etre en daou doare d'ober. Perak e vez gwelet un anaouder IP disheñvel gant ar servijer ?"
   ]
  },
  {
   "cell_type": "markdown",
   "metadata": {},
   "source": [
    "<img src=\"https://upload.wikimedia.org/wikipedia/commons/f/fb/Server-based-network.svg\" style=\"width:400px\" />"
   ]
  },
  {
   "cell_type": "markdown",
   "metadata": {},
   "source": [
    "Dindan ar sistem oberiant *Linux* e vez kavet ur urzhiad anvet `netcat` pe `nc` a servij da gas titouroù krai [brut] d'ul lec'hienn a-bell dre ar protokol *TCP*.<br>\n",
    "Tu 'zo staliañ ar memes urzhiat war *Windows* ivez met gwelloc'h eo c'hoazh adskrivañ an urzhiat-mañ e Python !"
   ]
  },
  {
   "cell_type": "code",
   "execution_count": null,
   "metadata": {},
   "outputs": [],
   "source": [
    "# Emporzhiet e vez ar modul 'socket' evit implij ar fonksionoù rouedad\n",
    "import socket\n",
    "\n",
    "# Termenet e vez ar fonksion 'netcat'\n",
    "def netcat(anaouder, porz, titour):\n",
    "    s = socket.socket(socket.AF_INET, socket.SOCK_STREAM)\n",
    "    s.connect((anaouder, porz))\n",
    "    s.sendall(titour.encode(\"utf-8\"))\n",
    "    s.shutdown(socket.SHUT_WR)\n",
    "    \n",
    "    response = b\"\"\n",
    "    while True:\n",
    "        data = s.recv(1024)\n",
    "        if not data:\n",
    "            break\n",
    "        response += data\n",
    "    \n",
    "    print(\"Resevet:\")\n",
    "    print(response.decode(\"latin-1\"))\n",
    "    s.close()\n",
    "    print(\"Sarret eo bet al liamm.\")"
   ]
  },
  {
   "cell_type": "markdown",
   "metadata": {},
   "source": [
    "Na pennfollit ket, normal eo ma ne vez ket komprenet ganeoc'h ar pezh a zo skrivet a-us !<br>\n",
    "Displeget e vo deoc'h penaos implij ar fonksion `netcat` nemetken."
   ]
  },
  {
   "cell_type": "markdown",
   "metadata": {},
   "source": [
    "Ar fonksion `netcat`, nevez termenet ganeomp, a gemer 3 arguzenn : un anaouder (niverenn IP pe URL), un niverenn porzh ha titouroù da gas.<br>\n",
    "* An anaouder a rank bezañ ur **chadenn lizherenneg**, da skouer : `\"www.symbolics.com\"` pe `\"64.6.98.185\"`\n",
    "* An niverenn porzh a zo un **niverenn anterin** o klotaat gant un niverenn porzh digoret war ar servijer a klaskomp tizhout. An porzh boutin evit ar c'hemenadennou HTTP a zo a porzh 80.\n",
    "* An titouroù da gas a zo ur **chadenn lizherenneg**."
   ]
  },
  {
   "cell_type": "markdown",
   "metadata": {},
   "source": [
    "Setu, da skouer, petra 'vez resevet pa vez kaset titouroù frammet reizh evit goulenn un bajenn web krai.<br>\n",
    "an titouroù kaset d'ar servijer, `\"GET http://symbolics.com/museum/ HTTP/1.1\\r\\nHost: symbolics.com\\r\\n\\r\\n\"` a heuil ur framm resis tre, anvet ar protokol HTTP. Ma vez cheñchet ul lizherenn nemetken e-barzh an titouroù-se ne vo ket komprenet an urzh ken gant ar servijer."
   ]
  },
  {
   "cell_type": "code",
   "execution_count": 121,
   "metadata": {
    "collapsed": true
   },
   "outputs": [
    {
     "name": "stdout",
     "output_type": "stream",
     "text": [
      "Resevet:\n",
      "HTTP/1.1 200 OK\r\n",
      "Date: Thu, 07 Nov 2019 15:04:19 GMT\r\n",
      "Server: Apache/2\r\n",
      "X-Powered-By: PHP/5.6.40\r\n",
      "X-Frame-Options: Sameorigin\r\n",
      "Upgrade: h2,h2c\r\n",
      "Connection: Upgrade\r\n",
      "Vary: Accept-Encoding,User-Agent\r\n",
      "Transfer-Encoding: chunked\r\n",
      "Content-Type: text/html; charset=UTF-8\r\n",
      "\r\n",
      "265d\r\n",
      "<!DOCTYPE html>\n",
      "\n",
      "<html prefix=\"og: http://ogp.me/ns#\" xmlns=\"http://www.w3.org/1999/xhtml\" lang=\"\">\n",
      "\n",
      "<head>\n",
      "\t<title>Symbolics.com - Museum | Homepage</title>\n",
      "\n",
      "\t<meta http-equiv=\"Content-Type\" content=\"text/html; charset=utf-8\" />\n",
      "\t<!--<meta name=\"viewport\" content=\"width=device-width, initial-scale=1.0, maximum-scale=2.0, user-scalable=1\">-->\n",
      "    <meta name=\"viewport\" content=\"width=1000\">\n",
      "\t\n",
      "\n",
      "\t<link rel=\"shortcut icon\" type=\"image/png\" href=\"/museum/inc/image/favicon.ico.png\" />\n",
      "\t<link rel=\"stylesheet\" type=\"text/css\" href=\"/museum/inc/css/screen.css\" media=\"screen\" />\n",
      "\t\n",
      "  \t\t<base href=\"http://symbolics.com/museum/\" />\n",
      "\t\t<meta property=\"og:title\" content=\"Symbolics.com Museum\" />\n",
      "\t\t<meta property=\"og:description\" content=\"Explore Symbolics.com Museum and its ever-growing collection. It&#39;s a museum like any other &#45; with curators, a permanent collection, temporary exhibitions by guest curators, seven different wings, and more. We might even open a gift shop.\" />\n",
      "\t\t<meta property=\"og:type\" content=\"website\" />\n",
      "\t\t\n",
      "\t\t\t\t<meta property=\"og:url\" content=\"http://www.symbolics.com/\" />\n",
      "\t\t\t\t\n",
      "\t<meta property=\"fb:admins\" content=\"710878860\" />\n",
      "\t<meta property=\"fb:admins\" content=\"1712966565\" />\n",
      "\t<meta property=\"fb:admins\" content=\"791662473\" />\n",
      "\n",
      "\t<!-- enable webapps -->\n",
      "\t<meta name=\"apple-mobile-web-app-capable\" content=\"yes\" />\n",
      "\t\n",
      "\t<meta property=\"og:image\" content=\"http://www.symbolics.com/inc/image/fb_tbim.jpg\" />\n",
      "\t \n",
      "\t<meta name=\"keywords\" content=\"Symbolics.com Museum, Internet, World Wide Web, home, welcome, interactive collection, Internet, World Wide Web, brazilian carnaval\"></meta>\n",
      "\t\n",
      "\t<!--\n",
      "\t\t<script type=\"text/javascript\" src=\"/museum/inc/js/library.js\"></script>\n",
      "\t\t<script type=\"text/javascript\" src=\"/museum/inc/js/MooDropMenu.js\"></script>\n",
      "\t\t<script type=\"text/javascript\" src=\"/museum/inc/js/fb.js\"></script>\t\n",
      "\t\t<script type=\"text/javascript\" src=\"/museum/inc/js/swipe.js\"></script>\n",
      "\t\t<script type=\"text/javascript\" src=\"/museum/inc/js/Loop.js\"></script>\n",
      "\t\t<script type=\"text/javascript\" src=\"/museum/inc/js/SlideShow.js\"></script>\n",
      "\t\t<script type=\"text/javascript\" src=\"/museum/inc/js/SlideShow.CSS.js\"></script>\n",
      "\t\t<script type=\"text/javascript\" src=\"/museum/inc/js/default.js\"></script>\n",
      "\t\t<script type=\"text/javascript\" src=\"/museum/inc/js/cerabox.js\"></script>\n",
      "\t-->\n",
      "\t<!-- Global site tag (gtag.js) - Google Analytics -->\n",
      "\n",
      "<script async src=\"https://www.googletagmanager.com/gtag/js?id=UA-54092580-1\"></script>\n",
      "\n",
      "<script>\n",
      "\n",
      "  window.dataLayer = window.dataLayer || [];\n",
      "\n",
      "  function gtag(){dataLayer.push(arguments);}\n",
      "\n",
      "  gtag('js', new Date());\n",
      "\n",
      " \n",
      "\n",
      "  gtag('config', 'UA-54092580-1');\n",
      "\n",
      "</script>\n",
      "</head>\n",
      "\n",
      "\t<body id=\"landing\">\n",
      "\t<div id=\"fb-root\"></div>\n",
      "\t<div id=\"wrapper\">\n",
      "\t\t\n",
      "<div id=\"menuTop\">\n",
      "\t<div class=\"menuContent\">\n",
      "\t\t<div>\n",
      "\t\t\t<div style=\"display:none;\" class=\"fb-like\" data-href=\"http://www.facebook.com/thebiginternetmuseum\" data-send=\"false\" data-layout=\"button_count\" data-width=\"250\" data-show-faces=\"false\" data-font=\"arial\"></div>\n",
      "\t\t\t<!-- <div class=\"fb-follow\" data-href=\"http://www.facebook.com/thebiginternetmuseum\" data-layout=\"button_count\" data-show-faces=\"false\" data-font=\"arial\" data-width=\"250\"></div> -->\t\t\t<span class=\"backtosym\"><a href=\"http://symbolics.com/\">Symbolics.com Home</a></span>\n",
      "\t\t\t<div id=\"buttons\">\n",
      "\t\t\t\t<div class=\"menu\">                     \n",
      "\t\t\t\t\t<span class=\"section\"><a href=\"#\" onclick=\"return false;\">Menu</a></span>\n",
      "\t\t\t\t\t<ul class=\"navi\">\n",
      "\t\t\t\t\t \t\t\t\t\t\t<li>\n",
      "\t\t\t\t\t\t\t<a href=\"about\"><img src=\"/museum/inc/image/icon/menu_info.png\"/>ABOUT THE MUSEUM</a>\n",
      "\t\t\t\t\t\t</li>\n",
      "\t\t\t\t\t\t\t\t\t\t\t\t<li>\n",
      "\t\t\t\t\t\t\t<a href=\"about\"><img src=\"/museum/inc/image/icon/menu_mail.png\"/>CONTACT</a>\n",
      "\t\t\t\t\t\t</li>\n",
      "\t\t\t\t\t</ul>\n",
      "\t\t\t\t</div>\n",
      "\t\t\t</div>\n",
      "\n",
      "\n",
      "\t\t\t<div id=\"navigate\">\n",
      "\t\t\t\t<div class=\"menu\">\n",
      "\t\t\t\t\t<span class=\"section\"><a href=\"#\" onclick=\"return false;\">Navigate</a></span>\n",
      "\t\t\t\t\t<ul class=\"navi\">\n",
      "\t\t\t\t\t\t<li>\n",
      "\t\t\t\t\t\t\t<a href=\"/museum/wings\"><img src=\"/museum/inc/image/icon/menu_thumb.png\"/>SEE IT ALL</a>\n",
      "\t\t\t\t\t\t</li>\n",
      "\n",
      "\t\t\t\t\t\t\t\t\t\t\t\t\t<li>\n",
      "\t\t\t\t\t\t\t\t<a href=\"/museum/wings/wing/id/8\"><img src=\"/museum/uploads/wings/menu_media.png\"/>Audio-Visual Wing</a>\n",
      "\t\t\t\t\t\t\t</li>\n",
      "\n",
      "\t\t\t\t\t\t\t\t\t\t\t\t\t<li>\n",
      "\t\t\t\t\t\t\t\t<a href=\"/museum/wings/wing/id/9\"><img src=\"/museum/uploads/wings/menu_duck.png\"/>Social media wing</a>\n",
      "\t\t\t\t\t\t\t</li>\n",
      "\n",
      "\t\t\t\t\t\t\t\t\t\t\t\t\t<li>\n",
      "\t\t\t\t\t\t\t\t<a href=\"/museum/wings/wing/id/10\"><img src=\"/museum/uploads/wings/menu_technology.png\"/>Technology wing</a>\n",
      "\t\t\t\t\t\t\t</li>\n",
      "\n",
      "\t\t\t\t\t\t\t\t\t\t\t\t\t<li>\n",
      "\t\t\t\t\t\t\t\t<a href=\"/museum/wings/wing/id/11\"><img src=\"/museum/uploads/wings/menu_mouse.png\"/>Peripherals Wing</a>\n",
      "\t\t\t\t\t\t\t</li>\n",
      "\n",
      "\t\t\t\t\t\t\t\t\t\t\t\t\t<li>\n",
      "\t\t\t\t\t\t\t\t<a href=\"/museum/wings/wing/id/12\"><img src=\"/museum/uploads/wings/menu_controller.png\"/>Gaming Wing</a>\n",
      "\t\t\t\t\t\t\t</li>\n",
      "\n",
      "\t\t\t\t\t\t\t\t\t\t\t\t\t<li>\n",
      "\t\t\t\t\t\t\t\t<a href=\"/museum/wings/wing/id/13\"><img src=\"/museum/uploads/wings/menu_star.png\"/>Meme Wing</a>\n",
      "\t\t\t\t\t\t\t</li>\n",
      "\n",
      "\t\t\t\t\t\t\t\t\t\t\t\t\t<li>\n",
      "\t\t\t\t\t\t\t\t<a href=\"/museum/wings/wing/id/14\"><img src=\"/museum/uploads/wings/menu_history.png\"/>History Wing</a>\n",
      "\t\t\t\t\t\t\t</li>\n",
      "\n",
      "\t\t\t\t\t\t\t\t\t\t\t\t<li>\n",
      "\t\t\t\t\t\t\t<a href=\"/museum/temporaryexhibition/\"><img src=\"/museum/inc/image/icon/menu_mail.png\"/>TEMPORARY EXHIBITION</a>\n",
      "\t\t\t\t\t\t</li>\n",
      "\t\t\t\t\t</ul>\n",
      "\t\t\t\t</div>\n",
      "\t\t\t</div>\n",
      "\n",
      "\t\t</div>\n",
      "\t\t\n",
      "\t\t\n",
      "\t\t\n",
      "\t\t<span class=\"donateTweet\">\n",
      "\t\t\t<a style=\"display: inline-block;\" href=\"https://twitter.com/share?url=http%3A%2F%2Fwww.thebiginternetmuseum.com&text=I%20donate%20this%20tweet%20to%20The%20Big%20Internet%20Museum!%20Check%20it%20out%3A&hashtags=TBIM\" target=\"_blank\"></a>\n",
      "\t\t</span>\n",
      "\t\t<a class=\"vote-class\" href=\"/museum/votes\">Vote</a>\n",
      "\t\t<a class=\"vote-class\" href=\"/museum/submit\">Submit</a>\n",
      "\n",
      "\t\t<form action=\"/museum/search\" class=\"search\">\n",
      "\t\t\t<fieldset>\n",
      "\t\t\t\t<button type=\"submit\">Submit</button>\n",
      "\t\t\t\t<input type=\"search\" name=\"query\" placeholder=\"search..\" value=\"\">\n",
      "\t\t\t</fieldset>\n",
      "\t\t</form>\n",
      "\n",
      "\t</div>\n",
      "</div>\n",
      "\t\t<div id=\"content\">\n",
      "\t\t\t<div id=\"header\">\n",
      "\t\t\t\t<div id=\"tbwa_logo\">\n",
      "\t\t\t\t\t<a href=\"/museum/\">\n",
      "\t\t\t\t\t\t<img src=\"inc/image/logo/logo.gif\" alt=\"The Big Internet Museum\" title=\"The Big Internet Museum\"/>\n",
      "\t\t\t\t\t</a>\n",
      "\t\t\t\t</div>\n",
      "\t\t\t</div>\n",
      "\n",
      "\t\t\t<div id=\"contentholder\">\n",
      "\t\t\t\t<div id=\"leftContent\">\n",
      "\t\t\t\t\t<div id=\"board\">\n",
      "\n",
      "\t\t\t\t\t</div>\n",
      "\t\t\t\t</div>\n",
      "\t\t\t\t<div id=\"rightContent\">\n",
      "\t\t\t\t\t<h1>\n",
      "\t\t\t\t\t\t<span class=\"underline\">WELCOME TO </span><span class=\"underline\">THE MUSEUM</span></h1>\n",
      "\t\t\t\t\t<p>You are about to enter the Big Internet Museum. Explore an interactive and ever-growing collection about the Internet and its remarkable graphic interface: the World Wide Web.</p> \n",
      "\t\t\t\t\t<p>\n",
      "\t\t\t\t\t\tBy the way, we donât have a building. The reason is simple: our collection only exists online. Aside from that itâs a museum like any other â with curators, a diverse permanent collection, temporary exhibitions, different wings, donations, and more. In the Big Internet Museum you can have your name printed on the wall by submitting a piece to the collection! We might even open a gift shop. There, weâve said it.</p>\n",
      "\t\t\t\t\t\n",
      "\t\t\t\t\t<a class=\"black-btn visitCollectionButton\" href=\"/museum/wings\">Visit Collection</a>\n",
      "\t\t\t\t</div>\n",
      "\t\t\t</div>\n",
      "\t\t</div>\n",
      "\t</div>\n",
      "<div id=\"menuBottom\"><!-- Go to www.addthis.com/dashboard to customize your tools --> <script type=\"text/javascript\">var switchTo5x=true;</script><script type=\"text/javascript\" id=\"st_insights_js\" src=\"http://w.sharethis.com/button/buttons.js?publisher=6de871ec-0cdc-4e96-a10a-9584de299ed2\"></script><script type=\"text/javascript\">stLight.options({publisher: \"6de871ec-0cdc-4e96-a10a-9584de299ed2\", doNotHash: false, doNotCopy: false, hashAddressBar: false});</script><style>.twitter_frame {  height: 145px;  overflow-x: hidden;  overflow-y: scroll;  scroll-behavior: inherit;  width: 100%;}#reasons-wrap {    width: 100%;    float: left;    padding-top: 20px;}</style>\n",
      "    <div class=\"menuContent\">\t<!-- Go to www.addthis.com/dashboard to customize your tools --> \t<div style=\"width:auto;max-width:700px;margin:auto\"><div class=\"addthis_inline_share_toolbox\"><span class='st_fblike_hcount' displayText='Facebook Like'></span><span class='st_facebook_hcount' displayText='Facebook'></span><span class='st_twitter_hcount' displayText='Tweet'></span><span class='st_linkedin_hcount' displayText='LinkedIn'></span><span class='st_pinterest_hcount' displayText='Pinterest'></span><span class='st_email_hcount' displayText='Email'></span></div></div>        </div>\n",
      "</div>\n",
      "\n",
      "\n",
      "\t<!-- Libs -->\n",
      "\t<script type=\"text/javascript\" src=\"/museum/inc/js/libs/mootools-core.js\"></script>\n",
      "\t<script type=\"text/javascript\" src=\"/museum/inc/js/libs/mootools-more.js\"></script>\n",
      "\n",
      "\t<!-- App -->\n",
      "\t<script type=\"text/javascript\" src=\"/museum/inc/js/app/default.js\"></script>\n",
      "\n",
      "\t<!-- Plugins -->\n",
      "\t<script type=\"text/javascript\" src=\"/museum/inc/js/plugins/TBIM.facebook.js\"></script>\n",
      "\t<script type=\"text/javascript\" src=\"/museum/inc/js/plugins/TBIM.loop.js\"></script>\n",
      "\t<script type=\"text/javascript\" src=\"/museum/inc/js/plugins/TBIM.slideshow.js\"></script>\n",
      "\t<script type=\"text/javascript\" src=\"/museum/inc/js/plugins/TBIM.timeline.js\"></script>\n",
      "\t<script type=\"text/javascript\" src=\"/museum/inc/js/plugins/TBIM.lightbox.js\"></script>\n",
      "\t<script type=\"text/javascript\" src=\"/museum/inc/js/plugins/TBIM.swipe.js\"></script>\n",
      "\t<script type=\"text/javascript\" src=\"/museum/inc/js/plugins/TBIM.seemore.js\"></script>\n",
      "\n",
      "\t<!-- Google analytics -->\n",
      "\t<script type=\"text/javascript\">\n",
      "\t\tvar _gaq = _gaq || [];\n",
      "\t\tvar pluginUrl = \n",
      "\t\t '//www.google-analytics.com/plugins/ga/inpage_linkid.js';\n",
      "\t\t_gaq.push(['_require', 'inpage_linkid', pluginUrl]);\n",
      "\t\t_gaq.push(['_setAccount', 'UA-35139991-1']);\n",
      "\t\t_gaq.push(['_trackPageview']);\n",
      "\n",
      "\t\t(function() {\n",
      "\t\tvar ga = document.createElement('script'); ga.type = 'text/javascript'; ga.async = true;\n",
      "\t\tga.src = ('https:' == document.location.protocol ? 'https://ssl' : 'http://www') + '.google-analytics.com/ga.js';\n",
      "\t\tvar s = document.getElementsByTagName('script')[0]; s.parentNode.insertBefore(ga, s);\n",
      "\t\t})();\n",
      "\t</script>\n",
      "</body>\n",
      "</html>\r\n",
      "0\r\n",
      "\r\n",
      "\n",
      "Sarret eo bet al liamm.\n"
     ]
    }
   ],
   "source": [
    "netcat(\"www.symbolics.com\", 80, \"GET http://symbolics.com/museum/ HTTP/1.1\\r\\nHost: symbolics.com\\r\\n\\r\\n\")"
   ]
  },
  {
   "cell_type": "markdown",
   "metadata": {},
   "source": [
    "Setu petra c'hoarvez ma vez kaset ur goulenn frammet fall (hervez ar protokol HTTP) d'ur servijer web :"
   ]
  },
  {
   "cell_type": "code",
   "execution_count": 117,
   "metadata": {
    "collapsed": true
   },
   "outputs": [
    {
     "name": "stdout",
     "output_type": "stream",
     "text": [
      "Resevet:\n",
      "HTTP/1.1 400 Bad Request\r\n",
      "Date: Thu, 07 Nov 2019 14:41:32 GMT\r\n",
      "Server: Apache/2\r\n",
      "Content-Length: 226\r\n",
      "Connection: close\r\n",
      "Content-Type: text/html; charset=iso-8859-1\r\n",
      "\r\n",
      "<!DOCTYPE HTML PUBLIC \"-//IETF//DTD HTML 2.0//EN\">\n",
      "<html><head>\n",
      "<title>400 Bad Request</title>\n",
      "</head><body>\n",
      "<h1>Bad Request</h1>\n",
      "<p>Your browser sent a request that this server could not understand.<br />\n",
      "</p>\n",
      "</body></html>\n",
      "\n",
      "Sarret eo bet al liamm.\n"
     ]
    }
   ],
   "source": [
    "netcat(\"www.symbolics.com\", 80, \"Kas-din ur pajenn web marplij\\r\\n\\r\\n\")"
   ]
  },
  {
   "cell_type": "markdown",
   "metadata": {},
   "source": [
    "## Tremenit war Spyder"
   ]
  },
  {
   "cell_type": "markdown",
   "metadata": {},
   "source": [
    "N'on eus ket echu c'hoazh gant Jupyter met digorit ar meiziant **Spyder** evit ar poelladenn o-tont."
   ]
  },
  {
   "cell_type": "markdown",
   "metadata": {},
   "source": [
    "Dindan **Spyder**, adskrivit ar fonksion `netcat` evel m'az eo bet roet deoc'h e penn kentañ an notebook mañ."
   ]
  },
  {
   "cell_type": "markdown",
   "metadata": {},
   "source": [
    "Gortozit e vefe loc'het ur servijer gant ar c'helenner ha darempredit gant ar servijer en ur implij ar fonksion `netcat` diouzh **Spyder**."
   ]
  },
  {
   "cell_type": "markdown",
   "metadata": {},
   "source": [
    "## Distroit war Jupyter"
   ]
  },
  {
   "cell_type": "markdown",
   "metadata": {},
   "source": [
    "Darempredit en dro gant ar servijer met o implij Jupyter ar wech mañ."
   ]
  },
  {
   "cell_type": "code",
   "execution_count": 133,
   "metadata": {},
   "outputs": [
    {
     "name": "stdout",
     "output_type": "stream",
     "text": [
      "Resevet:\n",
      "OK\n",
      "Sarret eo bet al liamm.\n"
     ]
    }
   ],
   "source": [
    "netcat(\"192.168.1.112\", 64646, \"HACKING THE MAINFRAME...\")"
   ]
  },
  {
   "cell_type": "markdown",
   "metadata": {},
   "source": [
    "Peseurt difoc'h a zo ?"
   ]
  }
 ],
 "metadata": {
  "kernelspec": {
   "display_name": "Python 3",
   "language": "python",
   "name": "python3"
  },
  "language_info": {
   "codemirror_mode": {
    "name": "ipython",
    "version": 3
   },
   "file_extension": ".py",
   "mimetype": "text/x-python",
   "name": "python",
   "nbconvert_exporter": "python",
   "pygments_lexer": "ipython3",
   "version": "3.7.3"
  }
 },
 "nbformat": 4,
 "nbformat_minor": 2
}
